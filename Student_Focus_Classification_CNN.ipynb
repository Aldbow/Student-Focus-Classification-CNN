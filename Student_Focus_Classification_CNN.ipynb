{
  "nbformat": 4,
  "nbformat_minor": 0,
  "metadata": {
    "colab": {
      "name": "For_Confusion_Matrix.ipynb",
      "provenance": [],
      "collapsed_sections": [],
      "include_colab_link": true
    },
    "kernelspec": {
      "name": "python3",
      "display_name": "Python 3"
    },
    "language_info": {
      "name": "python"
    },
    "gpuClass": "standard",
    "accelerator": "GPU"
  },
  "cells": [
    {
      "cell_type": "markdown",
      "metadata": {
        "id": "view-in-github",
        "colab_type": "text"
      },
      "source": [
        "<a href=\"https://colab.research.google.com/github/Aldbow/Student-Focus-Classification-CNN/blob/main/Student_Focus_Classification_CNN.ipynb\" target=\"_parent\"><img src=\"https://colab.research.google.com/assets/colab-badge.svg\" alt=\"Open In Colab\"/></a>"
      ]
    },
    {
      "cell_type": "code",
      "execution_count": null,
      "metadata": {
        "id": "wThAdvQO19wd"
      },
      "outputs": [],
      "source": [
        "# Import library\n",
        "import tensorflow as tf\n",
        "import numpy as np\n",
        "\n",
        "import matplotlib.pyplot as plt\n",
        "\n",
        "from keras_preprocessing.image import ImageDataGenerator\n",
        "from tensorflow.keras.models import Sequential\n",
        "from tensorflow.keras.layers import Dense, Dropout, Flatten, BatchNormalization\n",
        "from tensorflow.keras.layers import Conv2D\n",
        "from tensorflow.keras.callbacks import Callback\n",
        "from keras.callbacks import EarlyStopping\n",
        "\n",
        "import glob\n",
        "from sklearn.model_selection import train_test_split"
      ]
    },
    {
      "cell_type": "code",
      "source": [
        "# Ekstrak dataset dari rar\n",
        "\n",
        "!pip install patool\n",
        "import patoolib\n",
        "patoolib.extract_archive(\"/content/drive/MyDrive/Pendeteksi Emosi Wajah/Data Uji.rar\")"
      ],
      "metadata": {
        "colab": {
          "base_uri": "https://localhost:8080/",
          "height": 209
        },
        "id": "_F2Dr0SM2JHK",
        "outputId": "1c9c17f0-8efa-4c99-a064-d2a808ef1cd5"
      },
      "execution_count": null,
      "outputs": [
        {
          "output_type": "stream",
          "name": "stdout",
          "text": [
            "Looking in indexes: https://pypi.org/simple, https://us-python.pkg.dev/colab-wheels/public/simple/\n",
            "Collecting patool\n",
            "  Downloading patool-1.12-py2.py3-none-any.whl (77 kB)\n",
            "\u001b[K     |████████████████████████████████| 77 kB 5.7 MB/s \n",
            "\u001b[?25hInstalling collected packages: patool\n",
            "Successfully installed patool-1.12\n",
            "patool: Extracting /content/drive/MyDrive/Pendeteksi Emosi Wajah/Data Uji.rar ...\n",
            "patool: running /usr/bin/unrar x -- \"/content/drive/MyDrive/Pendeteksi Emosi Wajah/Data Uji.rar\"\n",
            "patool:     with cwd='./Unpack_72tegvlc'\n",
            "patool: ... /content/drive/MyDrive/Pendeteksi Emosi Wajah/Data Uji.rar extracted to `Data Uji' (multiple files in root).\n"
          ]
        },
        {
          "output_type": "execute_result",
          "data": {
            "text/plain": [
              "'Data Uji'"
            ],
            "application/vnd.google.colaboratory.intrinsic+json": {
              "type": "string"
            }
          },
          "metadata": {},
          "execution_count": 2
        }
      ]
    },
    {
      "cell_type": "code",
      "source": [
        "# Generator data\n",
        "\n",
        "train_dir = '/content/Data Uji/Training'\n",
        "val_dir = '/content/Data Uji/Validation'\n",
        "\n",
        "train_datagen = ImageDataGenerator(rescale=1./255)\n",
        "val_datagen = ImageDataGenerator(rescale=1./255)\n",
        "\n",
        "train_datagenerator = train_datagen.flow_from_directory(\n",
        "    train_dir,\n",
        "    target_size=(128,128),\n",
        "    batch_size=32,\n",
        "    class_mode='binary',\n",
        "    shuffle=True,\n",
        "    #shuffle=False\n",
        ")\n",
        "\n",
        "test_datagenerator = val_datagen.flow_from_directory(\n",
        "    val_dir,\n",
        "    target_size=(128,128),\n",
        "    #batch_size=10,\n",
        "    batch_size=32,\n",
        "    class_mode='binary',\n",
        "    #shuffle=True,\n",
        "    shuffle=False\n",
        ")"
      ],
      "metadata": {
        "id": "vrtq-v4e2cB6",
        "colab": {
          "base_uri": "https://localhost:8080/"
        },
        "outputId": "a84e7721-107f-4405-9cf2-131176afdf6b"
      },
      "execution_count": null,
      "outputs": [
        {
          "output_type": "stream",
          "name": "stdout",
          "text": [
            "Found 840 images belonging to 2 classes.\n",
            "Found 260 images belonging to 2 classes.\n"
          ]
        }
      ]
    },
    {
      "cell_type": "code",
      "source": [
        "# Melihat kelas pada dataset\n",
        "\n",
        "train_datagenerator.class_indices"
      ],
      "metadata": {
        "colab": {
          "base_uri": "https://localhost:8080/"
        },
        "id": "xf9L7rVq_3Z7",
        "outputId": "21928ed3-1d9d-46ec-e4a2-20ff2350eeee"
      },
      "execution_count": null,
      "outputs": [
        {
          "output_type": "execute_result",
          "data": {
            "text/plain": [
              "{'Data Puas': 0, 'Data Tidak Puas': 1}"
            ]
          },
          "metadata": {},
          "execution_count": 4
        }
      ]
    },
    {
      "cell_type": "code",
      "source": [
        "# Model Layer Conv2D Layers\n",
        "\n",
        "model = tf.keras.models.Sequential([\n",
        "    tf.keras.layers.Conv2D(32, (3,3), padding='same', activation='relu', input_shape=(128,128,3)),\n",
        "    tf.keras.layers.MaxPooling2D((2,2),2),\n",
        "    tf.keras.layers.Dropout(0.5, name='dropout_1'),\n",
        "\n",
        "    tf.keras.layers.Conv2D(64, (3,3), padding='same', activation='relu'),\n",
        "    tf.keras.layers.MaxPooling2D((2,2),2),\n",
        "    tf.keras.layers.Dropout(0.5, name='dropout_2'),\n",
        "\n",
        "    tf.keras.layers.Conv2D(64, (3,3), padding='same', activation='relu'),\n",
        "    tf.keras.layers.MaxPooling2D((2,2),2),\n",
        "    tf.keras.layers.Dropout(0.5, name='dropout_3'),\n",
        "\n",
        "    tf.keras.layers.Conv2D(128, (3,3), padding='same', activation='relu'),\n",
        "    tf.keras.layers.MaxPooling2D((2,2),2),\n",
        "    tf.keras.layers.Dropout(0.5, name='dropout_4'),\n",
        "\n",
        "    tf.keras.layers.Flatten(),\n",
        "    tf.keras.layers.Dense(512, activation='relu'),\n",
        "\n",
        "    tf.keras.layers.Dense(1, activation='sigmoid')\n",
        "])"
      ],
      "metadata": {
        "id": "DK-pGmcC4buJ"
      },
      "execution_count": null,
      "outputs": []
    },
    {
      "cell_type": "code",
      "source": [
        "# Melihat summary model\n",
        "\n",
        "model.summary()"
      ],
      "metadata": {
        "colab": {
          "base_uri": "https://localhost:8080/"
        },
        "id": "CXoc88Rz6V4B",
        "outputId": "b9abc2ef-fe81-4996-e80d-89953f708903"
      },
      "execution_count": null,
      "outputs": [
        {
          "output_type": "stream",
          "name": "stdout",
          "text": [
            "Model: \"sequential\"\n",
            "_________________________________________________________________\n",
            " Layer (type)                Output Shape              Param #   \n",
            "=================================================================\n",
            " conv2d (Conv2D)             (None, 128, 128, 32)      896       \n",
            "                                                                 \n",
            " max_pooling2d (MaxPooling2D  (None, 64, 64, 32)       0         \n",
            " )                                                               \n",
            "                                                                 \n",
            " dropout_1 (Dropout)         (None, 64, 64, 32)        0         \n",
            "                                                                 \n",
            " conv2d_1 (Conv2D)           (None, 64, 64, 64)        18496     \n",
            "                                                                 \n",
            " max_pooling2d_1 (MaxPooling  (None, 32, 32, 64)       0         \n",
            " 2D)                                                             \n",
            "                                                                 \n",
            " dropout_2 (Dropout)         (None, 32, 32, 64)        0         \n",
            "                                                                 \n",
            " conv2d_2 (Conv2D)           (None, 32, 32, 64)        36928     \n",
            "                                                                 \n",
            " max_pooling2d_2 (MaxPooling  (None, 16, 16, 64)       0         \n",
            " 2D)                                                             \n",
            "                                                                 \n",
            " dropout_3 (Dropout)         (None, 16, 16, 64)        0         \n",
            "                                                                 \n",
            " conv2d_3 (Conv2D)           (None, 16, 16, 128)       73856     \n",
            "                                                                 \n",
            " max_pooling2d_3 (MaxPooling  (None, 8, 8, 128)        0         \n",
            " 2D)                                                             \n",
            "                                                                 \n",
            " dropout_4 (Dropout)         (None, 8, 8, 128)         0         \n",
            "                                                                 \n",
            " flatten (Flatten)           (None, 8192)              0         \n",
            "                                                                 \n",
            " dense (Dense)               (None, 512)               4194816   \n",
            "                                                                 \n",
            " dense_1 (Dense)             (None, 1)                 513       \n",
            "                                                                 \n",
            "=================================================================\n",
            "Total params: 4,325,505\n",
            "Trainable params: 4,325,505\n",
            "Non-trainable params: 0\n",
            "_________________________________________________________________\n"
          ]
        }
      ]
    },
    {
      "cell_type": "code",
      "source": [
        "# Clear session jika bertujuan untuk training ulang model\n",
        "\n",
        "tf.keras.backend.clear_session"
      ],
      "metadata": {
        "colab": {
          "base_uri": "https://localhost:8080/"
        },
        "id": "NW5D_mME6XGN",
        "outputId": "73780f7b-6ed4-4547-f917-6e7469d4ea18"
      },
      "execution_count": null,
      "outputs": [
        {
          "output_type": "execute_result",
          "data": {
            "text/plain": [
              "<function keras.backend.clear_session>"
            ]
          },
          "metadata": {},
          "execution_count": 7
        }
      ]
    },
    {
      "cell_type": "code",
      "source": [
        "model.compile(loss='binary_crossentropy', \n",
        "              optimizer=tf.keras.optimizers.Adam(lr=0.001), \n",
        "              metrics=['accuracy'])"
      ],
      "metadata": {
        "colab": {
          "base_uri": "https://localhost:8080/"
        },
        "id": "Qdgnj9o76aFQ",
        "outputId": "d0c89c09-9c49-4f9b-e2dc-2e645d8cf738"
      },
      "execution_count": null,
      "outputs": [
        {
          "output_type": "stream",
          "name": "stderr",
          "text": [
            "/usr/local/lib/python3.7/dist-packages/keras/optimizer_v2/adam.py:105: UserWarning: The `lr` argument is deprecated, use `learning_rate` instead.\n",
            "  super(Adam, self).__init__(name, **kwargs)\n"
          ]
        }
      ]
    },
    {
      "cell_type": "code",
      "source": [
        "# Fungsi callback\n",
        "\n",
        "DESIRED_ACCURACY = 0.85\n",
        "\n",
        "class myCallback(tf.keras.callbacks.Callback):\n",
        "    def on_epoch_end(self, epochs, logs={}) :\n",
        "        if(logs.get('acc') is not None and logs.get('acc') >= DESIRED_ACCURACY) :\n",
        "            print('\\nReached 99.9% accuracy so cancelling training!')\n",
        "            self.model.stop_training = True\n",
        "\n",
        "callbacks = myCallback()"
      ],
      "metadata": {
        "id": "GjhK4_ccAxXL"
      },
      "execution_count": null,
      "outputs": []
    },
    {
      "cell_type": "code",
      "source": [
        "# Training model\n",
        "\n",
        "history = model.fit_generator(\n",
        "          train_datagenerator,\n",
        "          epochs=40,\n",
        "          validation_data = test_datagenerator,\n",
        "          callbacks = [callbacks])"
      ],
      "metadata": {
        "colab": {
          "base_uri": "https://localhost:8080/"
        },
        "id": "YI8uRNcS6sm2",
        "outputId": "a5139054-1250-4460-8a08-97767c7dd0fb"
      },
      "execution_count": null,
      "outputs": [
        {
          "output_type": "stream",
          "name": "stderr",
          "text": [
            "/usr/local/lib/python3.7/dist-packages/ipykernel_launcher.py:7: UserWarning: `Model.fit_generator` is deprecated and will be removed in a future version. Please use `Model.fit`, which supports generators.\n",
            "  import sys\n"
          ]
        },
        {
          "output_type": "stream",
          "name": "stdout",
          "text": [
            "Epoch 1/40\n",
            "27/27 [==============================] - 38s 939ms/step - loss: 0.9185 - accuracy: 0.4929 - val_loss: 0.6928 - val_accuracy: 0.5000\n",
            "Epoch 2/40\n",
            "27/27 [==============================] - 25s 933ms/step - loss: 0.6884 - accuracy: 0.5690 - val_loss: 0.6907 - val_accuracy: 0.6731\n",
            "Epoch 3/40\n",
            "27/27 [==============================] - 26s 970ms/step - loss: 0.6812 - accuracy: 0.5762 - val_loss: 0.6847 - val_accuracy: 0.5269\n",
            "Epoch 4/40\n",
            "27/27 [==============================] - 25s 924ms/step - loss: 0.6668 - accuracy: 0.6000 - val_loss: 0.6806 - val_accuracy: 0.6462\n",
            "Epoch 5/40\n",
            "27/27 [==============================] - 25s 932ms/step - loss: 0.6368 - accuracy: 0.6250 - val_loss: 0.6808 - val_accuracy: 0.5385\n",
            "Epoch 6/40\n",
            "27/27 [==============================] - 25s 928ms/step - loss: 0.6507 - accuracy: 0.6143 - val_loss: 0.6779 - val_accuracy: 0.5308\n",
            "Epoch 7/40\n",
            "27/27 [==============================] - 26s 970ms/step - loss: 0.6175 - accuracy: 0.6536 - val_loss: 0.6599 - val_accuracy: 0.6885\n",
            "Epoch 8/40\n",
            "27/27 [==============================] - 25s 936ms/step - loss: 0.6012 - accuracy: 0.6726 - val_loss: 0.6426 - val_accuracy: 0.6846\n",
            "Epoch 9/40\n",
            "27/27 [==============================] - 25s 932ms/step - loss: 0.5688 - accuracy: 0.7060 - val_loss: 0.5887 - val_accuracy: 0.7115\n",
            "Epoch 10/40\n",
            "27/27 [==============================] - 25s 936ms/step - loss: 0.5031 - accuracy: 0.7250 - val_loss: 0.5448 - val_accuracy: 0.7192\n",
            "Epoch 11/40\n",
            "27/27 [==============================] - 26s 975ms/step - loss: 0.4937 - accuracy: 0.7595 - val_loss: 0.5380 - val_accuracy: 0.7500\n",
            "Epoch 12/40\n",
            "27/27 [==============================] - 25s 932ms/step - loss: 0.4440 - accuracy: 0.7774 - val_loss: 0.5070 - val_accuracy: 0.7462\n",
            "Epoch 13/40\n",
            "27/27 [==============================] - 25s 930ms/step - loss: 0.4469 - accuracy: 0.7845 - val_loss: 0.5102 - val_accuracy: 0.7538\n",
            "Epoch 14/40\n",
            "27/27 [==============================] - 26s 971ms/step - loss: 0.4074 - accuracy: 0.8119 - val_loss: 0.4736 - val_accuracy: 0.7692\n",
            "Epoch 15/40\n",
            "27/27 [==============================] - 25s 937ms/step - loss: 0.3593 - accuracy: 0.8345 - val_loss: 0.4839 - val_accuracy: 0.7346\n",
            "Epoch 16/40\n",
            "27/27 [==============================] - 25s 927ms/step - loss: 0.3898 - accuracy: 0.8250 - val_loss: 0.4699 - val_accuracy: 0.8000\n",
            "Epoch 17/40\n",
            "27/27 [==============================] - 25s 927ms/step - loss: 0.3457 - accuracy: 0.8440 - val_loss: 0.4410 - val_accuracy: 0.7846\n",
            "Epoch 18/40\n",
            "27/27 [==============================] - 26s 973ms/step - loss: 0.3287 - accuracy: 0.8500 - val_loss: 0.4222 - val_accuracy: 0.7769\n",
            "Epoch 19/40\n",
            "27/27 [==============================] - 25s 927ms/step - loss: 0.3048 - accuracy: 0.8643 - val_loss: 0.4181 - val_accuracy: 0.8000\n",
            "Epoch 20/40\n",
            "27/27 [==============================] - 25s 940ms/step - loss: 0.3243 - accuracy: 0.8488 - val_loss: 0.4129 - val_accuracy: 0.7885\n",
            "Epoch 21/40\n",
            "27/27 [==============================] - 25s 950ms/step - loss: 0.2850 - accuracy: 0.8833 - val_loss: 0.4002 - val_accuracy: 0.8154\n",
            "Epoch 22/40\n",
            "27/27 [==============================] - 26s 985ms/step - loss: 0.2701 - accuracy: 0.8774 - val_loss: 0.4106 - val_accuracy: 0.8231\n",
            "Epoch 23/40\n",
            "27/27 [==============================] - 25s 932ms/step - loss: 0.2644 - accuracy: 0.8786 - val_loss: 0.3926 - val_accuracy: 0.8154\n",
            "Epoch 24/40\n",
            "27/27 [==============================] - 25s 937ms/step - loss: 0.2567 - accuracy: 0.8917 - val_loss: 0.3670 - val_accuracy: 0.8192\n",
            "Epoch 25/40\n",
            "27/27 [==============================] - 25s 928ms/step - loss: 0.2301 - accuracy: 0.8976 - val_loss: 0.3756 - val_accuracy: 0.8192\n",
            "Epoch 26/40\n",
            "27/27 [==============================] - 26s 965ms/step - loss: 0.2304 - accuracy: 0.9048 - val_loss: 0.3619 - val_accuracy: 0.8269\n",
            "Epoch 27/40\n",
            "27/27 [==============================] - 25s 933ms/step - loss: 0.2297 - accuracy: 0.8976 - val_loss: 0.3484 - val_accuracy: 0.8269\n",
            "Epoch 28/40\n",
            "27/27 [==============================] - 25s 929ms/step - loss: 0.2137 - accuracy: 0.9060 - val_loss: 0.3667 - val_accuracy: 0.8154\n",
            "Epoch 29/40\n",
            "27/27 [==============================] - 26s 969ms/step - loss: 0.2087 - accuracy: 0.9179 - val_loss: 0.3511 - val_accuracy: 0.8423\n",
            "Epoch 30/40\n",
            "27/27 [==============================] - 25s 929ms/step - loss: 0.1946 - accuracy: 0.9131 - val_loss: 0.3436 - val_accuracy: 0.8231\n",
            "Epoch 31/40\n",
            "27/27 [==============================] - 25s 933ms/step - loss: 0.1805 - accuracy: 0.9321 - val_loss: 0.3566 - val_accuracy: 0.8500\n",
            "Epoch 32/40\n",
            "27/27 [==============================] - 25s 928ms/step - loss: 0.1966 - accuracy: 0.9048 - val_loss: 0.3514 - val_accuracy: 0.8346\n",
            "Epoch 33/40\n",
            "27/27 [==============================] - 26s 970ms/step - loss: 0.1773 - accuracy: 0.9250 - val_loss: 0.3364 - val_accuracy: 0.8385\n",
            "Epoch 34/40\n",
            "27/27 [==============================] - 25s 934ms/step - loss: 0.1580 - accuracy: 0.9393 - val_loss: 0.3306 - val_accuracy: 0.8308\n",
            "Epoch 35/40\n",
            "27/27 [==============================] - 25s 928ms/step - loss: 0.1500 - accuracy: 0.9369 - val_loss: 0.3002 - val_accuracy: 0.8962\n",
            "Epoch 36/40\n",
            "27/27 [==============================] - 25s 927ms/step - loss: 0.1609 - accuracy: 0.9310 - val_loss: 0.3186 - val_accuracy: 0.8615\n",
            "Epoch 37/40\n",
            "27/27 [==============================] - 26s 974ms/step - loss: 0.1848 - accuracy: 0.9238 - val_loss: 0.3350 - val_accuracy: 0.8692\n",
            "Epoch 38/40\n",
            "27/27 [==============================] - 25s 925ms/step - loss: 0.1294 - accuracy: 0.9369 - val_loss: 0.3091 - val_accuracy: 0.8923\n",
            "Epoch 39/40\n",
            "27/27 [==============================] - 25s 936ms/step - loss: 0.1440 - accuracy: 0.9405 - val_loss: 0.3244 - val_accuracy: 0.8654\n",
            "Epoch 40/40\n",
            "27/27 [==============================] - 25s 932ms/step - loss: 0.1439 - accuracy: 0.9333 - val_loss: 0.3101 - val_accuracy: 0.8654\n"
          ]
        }
      ]
    },
    {
      "cell_type": "code",
      "source": [
        "# plot akurasi dan kurva kerugian\n",
        "def plot_model_history(model_history):\n",
        "    \"\"\"\n",
        "    Kurva Akurasi dan Kegagalan Plot dengan model_history\n",
        "    \"\"\"\n",
        "    fig, axs = plt.subplots(1,2,figsize=(15,5))\n",
        "    # meringkas riwayat akurasi\n",
        "    axs[0].plot(range(1,len(model_history.history['accuracy'])+1),model_history.history['accuracy'])\n",
        "    axs[0].plot(range(1,len(model_history.history['val_accuracy'])+1),model_history.history['val_accuracy'])\n",
        "    axs[0].set_title('Model Accuracy')\n",
        "    axs[0].set_ylabel('Accuracy')\n",
        "    axs[0].set_xlabel('Epoch')\n",
        "    axs[0].set_xticks(np.arange(1,len(model_history.history['accuracy'])+1),len(model_history.history['accuracy'])/10)\n",
        "    axs[0].legend(['train', 'val'], loc='best')\n",
        "    # meringkas riwayat kegagalan\n",
        "    axs[1].plot(range(1,len(model_history.history['loss'])+1),model_history.history['loss'])\n",
        "    axs[1].plot(range(1,len(model_history.history['val_loss'])+1),model_history.history['val_loss'])\n",
        "    axs[1].set_title('Model Loss')\n",
        "    axs[1].set_ylabel('Loss')\n",
        "    axs[1].set_xlabel('Epoch')\n",
        "    axs[1].set_xticks(np.arange(1,len(model_history.history['loss'])+1),len(model_history.history['loss'])/10)\n",
        "    axs[1].legend(['train', 'val'], loc='best')\n",
        "    fig.savefig('plot.png')\n",
        "    plt.show()\n",
        "\n",
        "plot_model_history(history)"
      ],
      "metadata": {
        "colab": {
          "base_uri": "https://localhost:8080/",
          "height": 422
        },
        "id": "hrv4mSdr79jQ",
        "outputId": "3d614f9b-163e-4904-a3d8-8f6d4c15d9e6"
      },
      "execution_count": null,
      "outputs": [
        {
          "output_type": "stream",
          "name": "stderr",
          "text": [
            "/usr/local/lib/python3.7/dist-packages/ipykernel_launcher.py:13: MatplotlibDeprecationWarning: Passing the minor parameter of set_xticks() positionally is deprecated since Matplotlib 3.2; the parameter will become keyword-only two minor releases later.\n",
            "  del sys.path[0]\n",
            "/usr/local/lib/python3.7/dist-packages/ipykernel_launcher.py:21: MatplotlibDeprecationWarning: Passing the minor parameter of set_xticks() positionally is deprecated since Matplotlib 3.2; the parameter will become keyword-only two minor releases later.\n"
          ]
        },
        {
          "output_type": "display_data",
          "data": {
            "text/plain": [
              "<Figure size 1080x360 with 2 Axes>"
            ],
            "image/png": "[encoded data removed]"
          },
          "metadata": {
            "needs_background": "light"
          }
        }
      ]
    },
    {
      "cell_type": "code",
      "source": [
        "# Menyimpan weights kedalam file\n",
        "\n",
        "model.save('model_face_emotion.h5')"
      ],
      "metadata": {
        "id": "i6F8G6uh5idQ"
      },
      "execution_count": null,
      "outputs": []
    },
    {
      "cell_type": "code",
      "source": [
        "# Menggunakan model yang telah di save\n",
        "\n",
        "from keras.models import load_model\n",
        "emotion_model = load_model('/content/model_face_emotion.h5')"
      ],
      "metadata": {
        "id": "w4JaF4tA6JUw"
      },
      "execution_count": null,
      "outputs": []
    },
    {
      "cell_type": "code",
      "source": [
        "# Upload file untuk klasifikasi\n",
        "\n",
        "from google.colab import files\n",
        "from keras.preprocessing import image\n",
        "\n",
        "uploaded = files.upload()\n",
        "\n",
        "for fn in uploaded.keys():\n",
        "  path = '/content/' + fn\n",
        "  img = image.load_img(path, target_size=(128, 128))\n",
        "  x = image.img_to_array(img)\n",
        "  x = np.expand_dims(x, axis=0)\n",
        "\n",
        "  images = np.vstack([x])\n",
        "  classes = emotion_model.predict(images, batch_size=10)\n",
        "  print(classes[0])\n",
        "  if classes[0]>0.5:\n",
        "    print(fn + \" is a Puas\")\n",
        "  else:\n",
        "    print(fn + \" is a Tidak Puas\")\n",
        "  #predicted_indices=np.argmax(emotion_model.predict(images))\n",
        "  #print(predicted_indices)\n",
        "  #labels = (train_datagenerator.class_indices)\n",
        "  #labels = dict((v,k) for k,v in labels.items())\n",
        "  #print(labels)\n",
        "  #predictions = [labels[k] for k in predicted_indices]\n",
        "  #print(labels[predicted_indices])\n",
        "  plt.imshow(img)\n",
        "  plt.show()"
      ],
      "metadata": {
        "id": "jlCshOyb6KWp"
      },
      "execution_count": null,
      "outputs": []
    }
  ]
}